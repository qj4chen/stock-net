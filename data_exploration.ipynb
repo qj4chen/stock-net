{
 "cells": [
  {
   "cell_type": "code",
   "execution_count": 13,
   "id": "4e466d46-fabb-4b05-8db5-6e256a3abb02",
   "metadata": {},
   "outputs": [],
   "source": [
    "import os\n",
    "os.environ['http_proxy'] = \"http://127.0.0.1:199\" \n",
    "os.environ['https_proxy'] = \"http://127.0.0.1:199\" "
   ]
  },
  {
   "cell_type": "code",
   "execution_count": 19,
   "id": "368a5d15-3ea3-466f-8825-1c94c3ca1261",
   "metadata": {},
   "outputs": [],
   "source": [
    "from empyrial import empyrial, Engine\n",
    "\n",
    "portfolio = Engine(    \n",
    "                  start_date= \"2018-06-09\", #start date for the backtesting\n",
    "                  portfolio= [\"600519\"], #assets in your portfolio \n",
    "                  benchmark = [\"SPY\"] #SPY is set by default\n",
    ")\n",
    "\n"
   ]
  },
  {
   "cell_type": "code",
   "execution_count": 20,
   "id": "a7747581-829d-46fb-935c-7429f1e548a3",
   "metadata": {
    "collapsed": true,
    "jupyter": {
     "outputs_hidden": true
    },
    "tags": []
   },
   "outputs": [
    {
     "name": "stdout",
     "output_type": "stream",
     "text": [
      "\n",
      "1 Failed download:\n",
      "- 600519: No data found, symbol may be delisted\n",
      "Start date: 2018-06-09\n",
      "End date: 2021-12-15\n"
     ]
    },
    {
     "ename": "IndexError",
     "evalue": "single positional indexer is out-of-bounds",
     "output_type": "error",
     "traceback": [
      "\u001b[1;31m---------------------------------------------------------------------------\u001b[0m",
      "\u001b[1;31mIndexError\u001b[0m                                Traceback (most recent call last)",
      "\u001b[1;32m~\\AppData\\Local\\Temp/ipykernel_21776/4023857537.py\u001b[0m in \u001b[0;36m<module>\u001b[1;34m\u001b[0m\n\u001b[1;32m----> 1\u001b[1;33m \u001b[0mempyrial\u001b[0m\u001b[1;33m(\u001b[0m\u001b[0mportfolio\u001b[0m\u001b[1;33m)\u001b[0m\u001b[1;33m\u001b[0m\u001b[1;33m\u001b[0m\u001b[0m\n\u001b[0m",
      "\u001b[1;32m~\\miniconda3\\lib\\site-packages\\empyrial.py\u001b[0m in \u001b[0;36mempyrial\u001b[1;34m(my_portfolio, rf, sigma_value, confidence_value)\u001b[0m\n\u001b[0;32m    288\u001b[0m \u001b[1;33m\u001b[0m\u001b[0m\n\u001b[0;32m    289\u001b[0m     \u001b[0mCUM\u001b[0m \u001b[1;33m=\u001b[0m \u001b[0mcum_returns\u001b[0m\u001b[1;33m(\u001b[0m\u001b[0mreturns\u001b[0m\u001b[1;33m,\u001b[0m \u001b[0mstarting_value\u001b[0m\u001b[1;33m=\u001b[0m\u001b[1;36m0\u001b[0m\u001b[1;33m,\u001b[0m \u001b[0mout\u001b[0m\u001b[1;33m=\u001b[0m\u001b[1;32mNone\u001b[0m\u001b[1;33m)\u001b[0m \u001b[1;33m*\u001b[0m \u001b[1;36m100\u001b[0m\u001b[1;33m\u001b[0m\u001b[1;33m\u001b[0m\u001b[0m\n\u001b[1;32m--> 290\u001b[1;33m     \u001b[0mCUM\u001b[0m \u001b[1;33m=\u001b[0m \u001b[0mCUM\u001b[0m\u001b[1;33m.\u001b[0m\u001b[0miloc\u001b[0m\u001b[1;33m[\u001b[0m\u001b[1;33m-\u001b[0m\u001b[1;36m1\u001b[0m\u001b[1;33m]\u001b[0m\u001b[1;33m\u001b[0m\u001b[1;33m\u001b[0m\u001b[0m\n\u001b[0m\u001b[0;32m    291\u001b[0m     \u001b[0mCUM\u001b[0m \u001b[1;33m=\u001b[0m \u001b[0mCUM\u001b[0m\u001b[1;33m.\u001b[0m\u001b[0mtolist\u001b[0m\u001b[1;33m(\u001b[0m\u001b[1;33m)\u001b[0m\u001b[1;33m\u001b[0m\u001b[1;33m\u001b[0m\u001b[0m\n\u001b[0;32m    292\u001b[0m     \u001b[0mCUM\u001b[0m \u001b[1;33m=\u001b[0m \u001b[0mstr\u001b[0m\u001b[1;33m(\u001b[0m\u001b[0mround\u001b[0m\u001b[1;33m(\u001b[0m\u001b[0mCUM\u001b[0m\u001b[1;33m,\u001b[0m \u001b[1;36m2\u001b[0m\u001b[1;33m)\u001b[0m\u001b[1;33m)\u001b[0m \u001b[1;33m+\u001b[0m \u001b[1;34m\"%\"\u001b[0m\u001b[1;33m\u001b[0m\u001b[1;33m\u001b[0m\u001b[0m\n",
      "\u001b[1;32m~\\miniconda3\\lib\\site-packages\\pandas\\core\\indexing.py\u001b[0m in \u001b[0;36m__getitem__\u001b[1;34m(self, key)\u001b[0m\n\u001b[0;32m    929\u001b[0m \u001b[1;33m\u001b[0m\u001b[0m\n\u001b[0;32m    930\u001b[0m             \u001b[0mmaybe_callable\u001b[0m \u001b[1;33m=\u001b[0m \u001b[0mcom\u001b[0m\u001b[1;33m.\u001b[0m\u001b[0mapply_if_callable\u001b[0m\u001b[1;33m(\u001b[0m\u001b[0mkey\u001b[0m\u001b[1;33m,\u001b[0m \u001b[0mself\u001b[0m\u001b[1;33m.\u001b[0m\u001b[0mobj\u001b[0m\u001b[1;33m)\u001b[0m\u001b[1;33m\u001b[0m\u001b[1;33m\u001b[0m\u001b[0m\n\u001b[1;32m--> 931\u001b[1;33m             \u001b[1;32mreturn\u001b[0m \u001b[0mself\u001b[0m\u001b[1;33m.\u001b[0m\u001b[0m_getitem_axis\u001b[0m\u001b[1;33m(\u001b[0m\u001b[0mmaybe_callable\u001b[0m\u001b[1;33m,\u001b[0m \u001b[0maxis\u001b[0m\u001b[1;33m=\u001b[0m\u001b[0maxis\u001b[0m\u001b[1;33m)\u001b[0m\u001b[1;33m\u001b[0m\u001b[1;33m\u001b[0m\u001b[0m\n\u001b[0m\u001b[0;32m    932\u001b[0m \u001b[1;33m\u001b[0m\u001b[0m\n\u001b[0;32m    933\u001b[0m     \u001b[1;32mdef\u001b[0m \u001b[0m_is_scalar_access\u001b[0m\u001b[1;33m(\u001b[0m\u001b[0mself\u001b[0m\u001b[1;33m,\u001b[0m \u001b[0mkey\u001b[0m\u001b[1;33m:\u001b[0m \u001b[0mtuple\u001b[0m\u001b[1;33m)\u001b[0m\u001b[1;33m:\u001b[0m\u001b[1;33m\u001b[0m\u001b[1;33m\u001b[0m\u001b[0m\n",
      "\u001b[1;32m~\\miniconda3\\lib\\site-packages\\pandas\\core\\indexing.py\u001b[0m in \u001b[0;36m_getitem_axis\u001b[1;34m(self, key, axis)\u001b[0m\n\u001b[0;32m   1564\u001b[0m \u001b[1;33m\u001b[0m\u001b[0m\n\u001b[0;32m   1565\u001b[0m             \u001b[1;31m# validate the location\u001b[0m\u001b[1;33m\u001b[0m\u001b[1;33m\u001b[0m\u001b[0m\n\u001b[1;32m-> 1566\u001b[1;33m             \u001b[0mself\u001b[0m\u001b[1;33m.\u001b[0m\u001b[0m_validate_integer\u001b[0m\u001b[1;33m(\u001b[0m\u001b[0mkey\u001b[0m\u001b[1;33m,\u001b[0m \u001b[0maxis\u001b[0m\u001b[1;33m)\u001b[0m\u001b[1;33m\u001b[0m\u001b[1;33m\u001b[0m\u001b[0m\n\u001b[0m\u001b[0;32m   1567\u001b[0m \u001b[1;33m\u001b[0m\u001b[0m\n\u001b[0;32m   1568\u001b[0m             \u001b[1;32mreturn\u001b[0m \u001b[0mself\u001b[0m\u001b[1;33m.\u001b[0m\u001b[0mobj\u001b[0m\u001b[1;33m.\u001b[0m\u001b[0m_ixs\u001b[0m\u001b[1;33m(\u001b[0m\u001b[0mkey\u001b[0m\u001b[1;33m,\u001b[0m \u001b[0maxis\u001b[0m\u001b[1;33m=\u001b[0m\u001b[0maxis\u001b[0m\u001b[1;33m)\u001b[0m\u001b[1;33m\u001b[0m\u001b[1;33m\u001b[0m\u001b[0m\n",
      "\u001b[1;32m~\\miniconda3\\lib\\site-packages\\pandas\\core\\indexing.py\u001b[0m in \u001b[0;36m_validate_integer\u001b[1;34m(self, key, axis)\u001b[0m\n\u001b[0;32m   1498\u001b[0m         \u001b[0mlen_axis\u001b[0m \u001b[1;33m=\u001b[0m \u001b[0mlen\u001b[0m\u001b[1;33m(\u001b[0m\u001b[0mself\u001b[0m\u001b[1;33m.\u001b[0m\u001b[0mobj\u001b[0m\u001b[1;33m.\u001b[0m\u001b[0m_get_axis\u001b[0m\u001b[1;33m(\u001b[0m\u001b[0maxis\u001b[0m\u001b[1;33m)\u001b[0m\u001b[1;33m)\u001b[0m\u001b[1;33m\u001b[0m\u001b[1;33m\u001b[0m\u001b[0m\n\u001b[0;32m   1499\u001b[0m         \u001b[1;32mif\u001b[0m \u001b[0mkey\u001b[0m \u001b[1;33m>=\u001b[0m \u001b[0mlen_axis\u001b[0m \u001b[1;32mor\u001b[0m \u001b[0mkey\u001b[0m \u001b[1;33m<\u001b[0m \u001b[1;33m-\u001b[0m\u001b[0mlen_axis\u001b[0m\u001b[1;33m:\u001b[0m\u001b[1;33m\u001b[0m\u001b[1;33m\u001b[0m\u001b[0m\n\u001b[1;32m-> 1500\u001b[1;33m             \u001b[1;32mraise\u001b[0m \u001b[0mIndexError\u001b[0m\u001b[1;33m(\u001b[0m\u001b[1;34m\"single positional indexer is out-of-bounds\"\u001b[0m\u001b[1;33m)\u001b[0m\u001b[1;33m\u001b[0m\u001b[1;33m\u001b[0m\u001b[0m\n\u001b[0m\u001b[0;32m   1501\u001b[0m \u001b[1;33m\u001b[0m\u001b[0m\n\u001b[0;32m   1502\u001b[0m     \u001b[1;31m# -------------------------------------------------------------------\u001b[0m\u001b[1;33m\u001b[0m\u001b[1;33m\u001b[0m\u001b[0m\n",
      "\u001b[1;31mIndexError\u001b[0m: single positional indexer is out-of-bounds"
     ]
    }
   ],
   "source": [
    "empyrial(portfolio)"
   ]
  },
  {
   "cell_type": "code",
   "execution_count": 3,
   "id": "bc5d436c-87af-4424-8254-131ea1649e1d",
   "metadata": {},
   "outputs": [],
   "source": [
    "portfolio"
   ]
  },
  {
   "cell_type": "code",
   "execution_count": 11,
   "id": "66294ddf-1fd4-4728-97aa-eb3113a5e7dc",
   "metadata": {},
   "outputs": [
    {
     "data": {
      "text/plain": [
       "{'CONDA_EXE': 'C:\\\\Users\\\\cqj\\\\miniconda3\\\\Scripts\\\\conda.exe',\n",
       " 'TERM_SESSION_ID': 'b54047ce-cc46-471d-acbf-906f5d0bdca5',\n",
       " 'ZES_ENABLE_SYSMAN': '1',\n",
       " 'PROGRAMW6432': 'C:\\\\Program Files',\n",
       " 'COMMONPROGRAMW6432': 'C:\\\\Program Files\\\\Common Files',\n",
       " 'CONDA_DEFAULT_ENV': 'base',\n",
       " 'CONDA_SHLVL': '1',\n",
       " 'USERNAME': 'cqj',\n",
       " 'USERPROFILE': 'C:\\\\Users\\\\cqj',\n",
       " 'ALLUSERSPROFILE': 'C:\\\\ProgramData',\n",
       " 'PROCESSOR_REVISION': '8c01',\n",
       " 'POWERSHELL_DISTRIBUTION_CHANNEL': 'MSI:Windows 10 Pro',\n",
       " 'IDEA_INITIAL_DIRECTORY': 'C:\\\\Program Files\\\\JetBrains\\\\PyCharm Community Edition 2021.2.2\\\\bin',\n",
       " 'FPS_BROWSER_APP_PROFILE_STRING': 'Internet Explorer',\n",
       " 'PUBLIC': 'C:\\\\Users\\\\Public',\n",
       " 'PATH': 'C:\\\\Users\\\\cqj\\\\miniconda3;C:\\\\Users\\\\cqj\\\\miniconda3\\\\Library\\\\mingw-w64\\\\bin;C:\\\\Users\\\\cqj\\\\miniconda3\\\\Library\\\\usr\\\\bin;C:\\\\Users\\\\cqj\\\\miniconda3\\\\Library\\\\bin;C:\\\\Users\\\\cqj\\\\miniconda3\\\\Scripts;C:\\\\Users\\\\cqj\\\\miniconda3\\\\bin;C:\\\\Users\\\\cqj\\\\miniconda3\\\\condabin;C:\\\\Python310\\\\Scripts;C:\\\\Python310;C:\\\\gurobi912\\\\win64\\\\bin;C:\\\\WINDOWS\\\\system32;C:\\\\WINDOWS;C:\\\\WINDOWS\\\\System32\\\\Wbem;C:\\\\WINDOWS\\\\System32\\\\WindowsPowerShell\\\\v1.0;C:\\\\WINDOWS\\\\System32\\\\OpenSSH;C:\\\\Program Files\\\\Calibre2;C:\\\\Program Files\\\\Graphviz\\\\bin;C:\\\\Program Files\\\\dotnet;C:\\\\Program Files\\\\Polyspace\\\\R2021a\\\\runtime\\\\win64;C:\\\\Program Files\\\\Polyspace\\\\R2021a\\\\bin;C:\\\\Program Files\\\\Polyspace\\\\R2021a\\\\polyspace\\\\bin;C:\\\\Program Files\\\\nodejs;C:\\\\ProgramData\\\\chocolatey\\\\bin;C:\\\\Program Files\\\\PowerShell\\\\7;C:\\\\Users\\\\cqj\\\\.mujoco\\\\mjpro150\\\\bin;C:\\\\gurobi912\\\\win64\\\\bin;C:\\\\WINDOWS\\\\system32;C:\\\\WINDOWS;C:\\\\WINDOWS\\\\System32\\\\Wbem;C:\\\\WINDOWS\\\\System32\\\\WindowsPowerShell\\\\v1.0;C:\\\\WINDOWS\\\\System32\\\\OpenSSH;C:\\\\Program Files\\\\Calibre2;C:\\\\Program Files\\\\Graphviz\\\\bin;C:\\\\Program Files\\\\dotnet;C:\\\\Program Files\\\\Polyspace\\\\R2021a\\\\runtime\\\\win64;C:\\\\Program Files\\\\Polyspace\\\\R2021a\\\\bin;C:\\\\Program Files\\\\Polyspace\\\\R2021a\\\\polyspace\\\\bin;C:\\\\Program Files\\\\nodejs;C:\\\\ProgramData\\\\chocolatey\\\\bin;C:\\\\Program Files\\\\PowerShell\\\\7;C:\\\\Program Files\\\\MySQL\\\\MySQL Shell 8.0\\\\bin;C:\\\\Users\\\\cqj\\\\.mujoco\\\\mjpro150\\\\bin;C:\\\\gurobi912\\\\win64\\\\bin;C:\\\\WINDOWS\\\\system32;C:\\\\WINDOWS;C:\\\\WINDOWS\\\\System32\\\\Wbem;C:\\\\WINDOWS\\\\System32\\\\WindowsPowerShell\\\\v1.0;C:\\\\WINDOWS\\\\System32\\\\OpenSSH;C:\\\\Program Files\\\\Calibre2;C:\\\\Program Files\\\\Graphviz\\\\bin;C:\\\\Program Files\\\\dotnet;C:\\\\Program Files\\\\Polyspace\\\\R2021a\\\\runtime\\\\win64;C:\\\\Program Files\\\\Polyspace\\\\R2021a\\\\bin;C:\\\\Program Files\\\\Polys;C:\\\\Users\\\\cqj\\\\miniconda3;C:\\\\Users\\\\cqj\\\\miniconda3\\\\envs\\\\bdfund;C:\\\\Users\\\\cq;C:\\\\Users\\\\cqj\\\\AppData\\\\Local\\\\atom\\\\app-1.58.0;.;C:\\\\Users\\\\cqj\\\\AppData\\\\Local\\\\Programs\\\\Microsoft VS Code\\\\bin',\n",
       " 'DRIVERDATA': 'C:\\\\Windows\\\\System32\\\\Drivers\\\\DriverData',\n",
       " 'HOMEDRIVE': 'C:',\n",
       " 'SESSIONNAME': 'Console',\n",
       " 'TERMINAL_EMULATOR': 'JetBrains-JediTerm',\n",
       " 'LOGONSERVER': '\\\\\\\\YOGA14S-21',\n",
       " 'CONDA_PREFIX': 'C:\\\\Users\\\\cqj\\\\miniconda3',\n",
       " 'SYSTEMROOT': 'C:\\\\WINDOWS',\n",
       " 'HOMEPATH': '\\\\Users\\\\cqj',\n",
       " 'CHOCOLATEYINSTALL': 'C:\\\\ProgramData\\\\chocolatey',\n",
       " 'LOCALAPPDATA': 'C:\\\\Users\\\\cqj\\\\AppData\\\\Local',\n",
       " 'WXDRIVE_START_ARGS': '--wxdrive-setting=0 --disable-gpu --disable-software-rasterizer --enable-features=NetworkServiceInProcess',\n",
       " 'APPDATA': 'C:\\\\Users\\\\cqj\\\\AppData\\\\Roaming',\n",
       " 'PROCESSOR_IDENTIFIER': 'Intel64 Family 6 Model 140 Stepping 1, GenuineIntel',\n",
       " 'PATHEXT': '.COM;.EXE;.BAT;.CMD;.VBS;.VBE;.JS;.JSE;.WSF;.WSH;.MSC;.CPL',\n",
       " 'PSMODULEPATH': 'C:\\\\Users\\\\cqj\\\\Documents\\\\WindowsPowerShell\\\\Modules;C:\\\\Program Files\\\\WindowsPowerShell\\\\Modules;C:\\\\WINDOWS\\\\system32\\\\WindowsPowerShell\\\\v1.0\\\\Modules',\n",
       " 'CONDA_PROMPT_MODIFIER': '(base) ',\n",
       " 'PROGRAMFILES(X86)': 'C:\\\\Program Files (x86)',\n",
       " 'PROMPT': '(base) $P$G',\n",
       " 'OS': 'Windows_NT',\n",
       " 'PROCESSOR_ARCHITECTURE': 'AMD64',\n",
       " 'NUMBER_OF_PROCESSORS': '8',\n",
       " 'COMSPEC': 'C:\\\\WINDOWS\\\\system32\\\\cmd.exe',\n",
       " 'PROCESSOR_LEVEL': '6',\n",
       " 'WINDIR': 'C:\\\\WINDOWS',\n",
       " 'USERDOMAIN_ROAMINGPROFILE': 'YOGA14S-21',\n",
       " 'PROGRAMFILES': 'C:\\\\Program Files',\n",
       " 'TMP': 'C:\\\\Users\\\\cqj\\\\AppData\\\\Local\\\\Temp',\n",
       " 'GUROBI_HOME': 'C:\\\\gurobi912\\\\win64',\n",
       " 'TEMP': 'C:\\\\Users\\\\cqj\\\\AppData\\\\Local\\\\Temp',\n",
       " 'COMMONPROGRAMFILES(X86)': 'C:\\\\Program Files (x86)\\\\Common Files',\n",
       " 'ONEDRIVE': 'C:\\\\Users\\\\cqj\\\\OneDrive',\n",
       " 'USERDOMAIN': 'YOGA14S-21',\n",
       " 'SYSTEMDRIVE': 'C:',\n",
       " 'COMPUTERNAME': 'YOGA14S-21',\n",
       " 'PROGRAMDATA': 'C:\\\\ProgramData',\n",
       " 'CHOCOLATEYLASTPATHUPDATE': '132814392053501494',\n",
       " 'FPS_BROWSER_USER_PROFILE_STRING': 'Default',\n",
       " 'COMMONPROGRAMFILES': 'C:\\\\Program Files\\\\Common Files',\n",
       " '_CONDA_EXE': 'C:\\\\Users\\\\cqj\\\\miniconda3\\\\Scripts\\\\conda.exe',\n",
       " '_CONDA_ROOT': 'C:\\\\Users\\\\cqj\\\\miniconda3',\n",
       " '__INTELLIJ_COMMAND_HISTFILE__': 'C:\\\\Users\\\\cqj\\\\AppData\\\\Local\\\\JetBrains\\\\PyCharmCE2021.3\\\\terminal\\\\history\\\\project-history',\n",
       " 'PYDEVD_USE_FRAME_EVAL': 'NO',\n",
       " 'JPY_INTERRUPT_EVENT': '3760',\n",
       " 'IPY_INTERRUPT_EVENT': '3760',\n",
       " 'JPY_PARENT_PID': '3740',\n",
       " 'TERM': 'xterm-color',\n",
       " 'CLICOLOR': '1',\n",
       " 'PAGER': 'cat',\n",
       " 'GIT_PAGER': 'cat',\n",
       " 'MPLBACKEND': 'module://matplotlib_inline.backend_inline',\n",
       " 'HTTP_PROXY': 'http://127.0.0.1:199',\n",
       " 'HTTPS_PROXY': 'https://127.0.0.1:199'}"
      ]
     },
     "execution_count": 11,
     "metadata": {},
     "output_type": "execute_result"
    }
   ],
   "source": [
    "%env"
   ]
  },
  {
   "cell_type": "code",
   "execution_count": 21,
   "id": "45fb0856-ca4a-4de9-adc7-b5e4df004ef2",
   "metadata": {
    "tags": []
   },
   "outputs": [
    {
     "data": {
      "text/plain": [
       "<Response [200]>"
      ]
     },
     "execution_count": 21,
     "metadata": {},
     "output_type": "execute_result"
    }
   ],
   "source": [
    "import requests\n",
    "requests.get(\"https://google.com\")"
   ]
  },
  {
   "cell_type": "code",
   "execution_count": null,
   "id": "ddd40cd1-3889-47cf-b6ad-ff1321eea49b",
   "metadata": {},
   "outputs": [],
   "source": []
  },
  {
   "cell_type": "code",
   "execution_count": null,
   "id": "314d812b-43a8-4f92-9cc3-38a1774444e8",
   "metadata": {},
   "outputs": [],
   "source": []
  }
 ],
 "metadata": {
  "kernelspec": {
   "display_name": "Python 3 (ipykernel)",
   "language": "python",
   "name": "python3"
  },
  "language_info": {
   "codemirror_mode": {
    "name": "ipython",
    "version": 3
   },
   "file_extension": ".py",
   "mimetype": "text/x-python",
   "name": "python",
   "nbconvert_exporter": "python",
   "pygments_lexer": "ipython3",
   "version": "3.9.7"
  }
 },
 "nbformat": 4,
 "nbformat_minor": 5
}
